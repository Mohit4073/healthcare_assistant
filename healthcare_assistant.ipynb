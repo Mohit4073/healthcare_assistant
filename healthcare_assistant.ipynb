{
  "nbformat": 4,
  "nbformat_minor": 0,
  "metadata": {
    "colab": {
      "provenance": [],
      "gpuType": "T4",
      "authorship_tag": "ABX9TyNksyEku4AJ1JUbK4XS2UMT",
      "include_colab_link": true
    },
    "kernelspec": {
      "name": "python3",
      "display_name": "Python 3"
    },
    "language_info": {
      "name": "python"
    }
  },
  "cells": [
    {
      "cell_type": "markdown",
      "metadata": {
        "id": "view-in-github",
        "colab_type": "text"
      },
      "source": [
        "<a href=\"https://colab.research.google.com/github/Mohit4073/healthcare_assistant/blob/main/healthcare_assistant.ipynb\" target=\"_parent\"><img src=\"https://colab.research.google.com/assets/colab-badge.svg\" alt=\"Open In Colab\"/></a>"
      ]
    },
    {
      "cell_type": "code",
      "execution_count": 1,
      "metadata": {
        "colab": {
          "base_uri": "https://localhost:8080/"
        },
        "id": "yR8MA-znc6KN",
        "outputId": "78661767-620c-4673-8859-60672fcd2bf3"
      },
      "outputs": [
        {
          "output_type": "stream",
          "name": "stdout",
          "text": [
            "Mounted at /content/drive\n"
          ]
        }
      ],
      "source": [
        "from google.colab import drive\n",
        "drive.mount('/content/drive')"
      ]
    },
    {
      "cell_type": "code",
      "source": [
        "import os\n",
        "\n",
        "# Create directories\n",
        "project_dir = '/content/drive/MyDrive/healthcare_assistant'\n",
        "os.makedirs(f'{project_dir}/data/nlp', exist_ok=True)\n",
        "os.makedirs(f'{project_dir}/data/cv/images', exist_ok=True)\n",
        "print(\"Directories created:\", os.listdir(project_dir))"
      ],
      "metadata": {
        "colab": {
          "base_uri": "https://localhost:8080/"
        },
        "id": "Ek_Q6MiKeqYH",
        "outputId": "a0349d9f-5545-4d48-85f9-a9f0ddb26d76"
      },
      "execution_count": 2,
      "outputs": [
        {
          "output_type": "stream",
          "name": "stdout",
          "text": [
            "Directories created: ['data']\n"
          ]
        }
      ]
    },
    {
      "cell_type": "code",
      "source": [
        "import pandas as pd\n",
        "\n",
        "# Load dataset\n",
        "data = pd.read_csv('/content/drive/MyDrive/healthcare_assistant/data/nlp/mtsamples.csv')\n",
        "print(data.head())\n",
        "print(data.columns)\n",
        "print(f\"Number of rows: {len(data)}\")"
      ],
      "metadata": {
        "colab": {
          "base_uri": "https://localhost:8080/"
        },
        "id": "nyYvARmDe-kn",
        "outputId": "fb4bd999-b2dd-41d7-d997-6d4581ceda04"
      },
      "execution_count": 3,
      "outputs": [
        {
          "output_type": "stream",
          "name": "stdout",
          "text": [
            "   Unnamed: 0                                        description  \\\n",
            "0           0   A 23-year-old white female presents with comp...   \n",
            "1           1           Consult for laparoscopic gastric bypass.   \n",
            "2           2           Consult for laparoscopic gastric bypass.   \n",
            "3           3                             2-D M-Mode. Doppler.     \n",
            "4           4                                 2-D Echocardiogram   \n",
            "\n",
            "             medical_specialty                                sample_name  \\\n",
            "0         Allergy / Immunology                         Allergic Rhinitis    \n",
            "1                   Bariatrics   Laparoscopic Gastric Bypass Consult - 2    \n",
            "2                   Bariatrics   Laparoscopic Gastric Bypass Consult - 1    \n",
            "3   Cardiovascular / Pulmonary                    2-D Echocardiogram - 1    \n",
            "4   Cardiovascular / Pulmonary                    2-D Echocardiogram - 2    \n",
            "\n",
            "                                       transcription  \\\n",
            "0  SUBJECTIVE:,  This 23-year-old white female pr...   \n",
            "1  PAST MEDICAL HISTORY:, He has difficulty climb...   \n",
            "2  HISTORY OF PRESENT ILLNESS: , I have seen ABC ...   \n",
            "3  2-D M-MODE: , ,1.  Left atrial enlargement wit...   \n",
            "4  1.  The left ventricular cavity size and wall ...   \n",
            "\n",
            "                                            keywords  \n",
            "0  allergy / immunology, allergic rhinitis, aller...  \n",
            "1  bariatrics, laparoscopic gastric bypass, weigh...  \n",
            "2  bariatrics, laparoscopic gastric bypass, heart...  \n",
            "3  cardiovascular / pulmonary, 2-d m-mode, dopple...  \n",
            "4  cardiovascular / pulmonary, 2-d, doppler, echo...  \n",
            "Index(['Unnamed: 0', 'description', 'medical_specialty', 'sample_name',\n",
            "       'transcription', 'keywords'],\n",
            "      dtype='object')\n",
            "Number of rows: 4999\n"
          ]
        }
      ]
    },
    {
      "cell_type": "code",
      "source": [
        "!git clone https://github.com/Mohit4073/healthcare_assistant.git"
      ],
      "metadata": {
        "colab": {
          "base_uri": "https://localhost:8080/"
        },
        "id": "TrojA6o-fbYB",
        "outputId": "f98c74ae-585a-4e2d-ce19-1735bdb09c56"
      },
      "execution_count": 1,
      "outputs": [
        {
          "output_type": "stream",
          "name": "stdout",
          "text": [
            "Cloning into 'healthcare_assistant'...\n",
            "remote: Enumerating objects: 3, done.\u001b[K\n",
            "remote: Counting objects: 100% (3/3), done.\u001b[K\n",
            "remote: Compressing objects: 100% (2/2), done.\u001b[K\n",
            "remote: Total 3 (delta 0), reused 0 (delta 0), pack-reused 0 (from 0)\u001b[K\n",
            "Receiving objects: 100% (3/3), done.\n"
          ]
        }
      ]
    },
    {
      "cell_type": "code",
      "source": [
        "%cd healthcare_assistant"
      ],
      "metadata": {
        "colab": {
          "base_uri": "https://localhost:8080/"
        },
        "id": "lhrMXfN1rqkn",
        "outputId": "ad383296-42c2-4434-dc50-66d0227cbea6"
      },
      "execution_count": 2,
      "outputs": [
        {
          "output_type": "stream",
          "name": "stdout",
          "text": [
            "/content/healthcare_assistant\n"
          ]
        }
      ]
    },
    {
      "cell_type": "code",
      "source": [
        "print(\"Healthcare Assistant project started!\")\n"
      ],
      "metadata": {
        "colab": {
          "base_uri": "https://localhost:8080/"
        },
        "id": "UsmJ4YHmr2Kg",
        "outputId": "19870565-f4a9-4fba-9185-aa1cc0f39353"
      },
      "execution_count": 3,
      "outputs": [
        {
          "output_type": "stream",
          "name": "stdout",
          "text": [
            "Healthcare Assistant project started!\n"
          ]
        }
      ]
    },
    {
      "cell_type": "code",
      "source": [],
      "metadata": {
        "id": "6SZOaqSVsLls"
      },
      "execution_count": null,
      "outputs": []
    }
  ]
}